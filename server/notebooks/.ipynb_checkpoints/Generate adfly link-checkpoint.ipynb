{
 "cells": [
  {
   "cell_type": "code",
   "execution_count": 21,
   "id": "hydraulic-exercise",
   "metadata": {},
   "outputs": [],
   "source": [
    "from video.models import Chapter, Show, Movie\n",
    "from asgiref.sync import sync_to_async\n",
    "from adfly import AdflyApi\n",
    "\n",
    "import time"
   ]
  },
  {
   "cell_type": "code",
   "execution_count": 2,
   "id": "joint-walker",
   "metadata": {},
   "outputs": [],
   "source": [
    "import os\n",
    "import django\n",
    "os.environ.setdefault('DJANGO_SETTINGS_MODULE', 'rest.settings')\n",
    "os.environ[\"DJANGO_ALLOW_ASYNC_UNSAFE\"] = \"true\"\n",
    "django.setup()"
   ]
  },
  {
   "cell_type": "code",
   "execution_count": 10,
   "id": "purple-organization",
   "metadata": {},
   "outputs": [],
   "source": [
    "BASE_URL = \"http://www.rukos.tv/\"\n",
    "MOVIE = \"movie/\"\n",
    "SHOW = \"show/\""
   ]
  },
  {
   "cell_type": "code",
   "execution_count": 14,
   "id": "legal-train",
   "metadata": {},
   "outputs": [
    {
     "name": "stdout",
     "output_type": "stream",
     "text": [
      "http://www.rukos.tv/movie/los-simpson-la-pelicula\n",
      "http://blaleela.com/6w91\n"
     ]
    }
   ],
   "source": [
    "print(BASE_URL + MOVIE + movies[0].slug)\n",
    "res = {'errors': [],\n",
    " 'warnings': [],\n",
    " 'data': [{'id': '6789613337',\n",
    "   'url': 'http://docs.python.org/library/json.html',\n",
    "   'short_url': 'http://blaleela.com/6w91'}],\n",
    " 'page': {'current': 1, 'total': 1}}\n",
    "print(res['data'][0]['short_url'])"
   ]
  },
  {
   "cell_type": "code",
   "execution_count": 4,
   "id": "representative-nation",
   "metadata": {},
   "outputs": [],
   "source": [
    "api = AdflyApi(\n",
    "      secret_key='7cda073a-1dd1-4e4a-92f4-b9ce09764f3e',\n",
    "      public_key='51a531b5a4902229d99299224b75a915',\n",
    "      user_id=24702679,\n",
    ")"
   ]
  },
  {
   "cell_type": "code",
   "execution_count": 8,
   "id": "super-british",
   "metadata": {},
   "outputs": [],
   "source": [
    "movies = Movie.objects.all()"
   ]
  },
  {
   "cell_type": "code",
   "execution_count": 6,
   "id": "confirmed-prayer",
   "metadata": {},
   "outputs": [
    {
     "data": {
      "text/plain": [
       "{'errors': [],\n",
       " 'warnings': [],\n",
       " 'data': [{'id': '6789613337',\n",
       "   'url': 'http://docs.python.org/library/json.html',\n",
       "   'short_url': 'http://blaleela.com/6w91'}],\n",
       " 'page': {'current': 1, 'total': 1}}"
      ]
     },
     "execution_count": 6,
     "metadata": {},
     "output_type": "execute_result"
    }
   ],
   "source": [
    "api.shorten('http://docs.python.org/library/json.html')"
   ]
  },
  {
   "cell_type": "code",
   "execution_count": 16,
   "id": "wireless-chamber",
   "metadata": {},
   "outputs": [],
   "source": [
    "movies = Movie.objects.all()\n",
    "\n",
    "for movie in movies:\n",
    "    if not movie.ads_url:\n",
    "        print(BASE_URL + MOVIE + movie.slug)\n",
    "        response = api.shorten(BASE_URL + MOVIE + movie.slug)\n",
    "        print(response['data'][0]['short_url'])\n",
    "        movie.ads_url = response['data'][0]['short_url']\n",
    "        movie.save()"
   ]
  },
  {
   "cell_type": "code",
   "execution_count": 25,
   "id": "express-literacy",
   "metadata": {},
   "outputs": [
    {
     "name": "stdout",
     "output_type": "stream",
     "text": [
      "http://www.rukos.tv/show/samurai-champloo\n",
      "http://blaleela.com/72ua\n"
     ]
    }
   ],
   "source": [
    "shows = Show.objects.all()\n",
    "\n",
    "for show in shows:\n",
    "    if not show.ads_url:\n",
    "        print(BASE_URL + SHOW + show.slug)\n",
    "        response = api.shorten(BASE_URL + SHOW + show.slug)\n",
    "        print(response['data'][0]['short_url'])\n",
    "        show.ads_url = response['data'][0]['short_url']\n",
    "        show.save()"
   ]
  },
  {
   "cell_type": "code",
   "execution_count": 24,
   "id": "foreign-journal",
   "metadata": {},
   "outputs": [],
   "source": [
    "chapters = Chapter.objects.all()\n",
    "\n",
    "for chapter in chapters:\n",
    "    if not chapter.ads_url:\n",
    "        print(BASE_URL + SHOW + chapter.show.slug + '/' + chapter.slug)\n",
    "        response = api.shorten(BASE_URL + SHOW + chapter.show.slug + '/' + chapter.slug)\n",
    "        print(response['data'][0]['short_url'])\n",
    "        chapter.ads_url = response['data'][0]['short_url']\n",
    "        chapter.save()\n",
    "        time.sleep(0.5)"
   ]
  },
  {
   "cell_type": "code",
   "execution_count": null,
   "id": "appreciated-delicious",
   "metadata": {},
   "outputs": [],
   "source": []
  }
 ],
 "metadata": {
  "kernelspec": {
   "display_name": "Django Shell-Plus",
   "language": "python",
   "name": "django_extensions"
  },
  "language_info": {
   "codemirror_mode": {
    "name": "ipython",
    "version": 3
   },
   "file_extension": ".py",
   "mimetype": "text/x-python",
   "name": "python",
   "nbconvert_exporter": "python",
   "pygments_lexer": "ipython3",
   "version": "3.9.1"
  }
 },
 "nbformat": 4,
 "nbformat_minor": 5
}
