{
 "cells": [
  {
   "cell_type": "code",
   "execution_count": 1,
   "id": "electric-bernard",
   "metadata": {},
   "outputs": [],
   "source": [
    "from video.models import Chapter, Show, Movie\n",
    "from asgiref.sync import sync_to_async\n",
    "import os\n",
    "import django\n",
    "os.environ.setdefault('DJANGO_SETTINGS_MODULE', 'rest.settings')\n",
    "os.environ[\"DJANGO_ALLOW_ASYNC_UNSAFE\"] = \"true\"\n",
    "django.setup()"
   ]
  },
  {
   "cell_type": "code",
   "execution_count": 2,
   "id": "short-latvia",
   "metadata": {},
   "outputs": [],
   "source": [
    "show = Show.objects.get(pk=9)"
   ]
  },
  {
   "cell_type": "code",
   "execution_count": 3,
   "id": "inside-campaign",
   "metadata": {},
   "outputs": [],
   "source": [
    "chapters = Chapter.objects.filter(show=show)"
   ]
  },
  {
   "cell_type": "code",
   "execution_count": 4,
   "id": "assigned-explanation",
   "metadata": {},
   "outputs": [
    {
     "name": "stdout",
     "output_type": "stream",
     "text": [
      "Daria 1×01 – Estimadores 0 False\n",
      "Daria 1×02 – La invitación 1 False\n",
      "Daria 1×03 – Universidad aburrida 2 False\n",
      "Daria 1×04 – Café Disaffecto 3 False\n",
      "Daria 1×05 – Centro (Plaza) Comercial 4 False\n",
      "Daria 1×06 – Modelo de este año 5 False\n",
      "Daria 1×07 – El Laboratorio del Idiota 6 False\n",
      "Daria 1×08 – Niñera Activista 7 False\n",
      "Daria 1×09 – Demasiado lindo 8 False\n",
      "Daria 1×10 – La casa grande 9 False\n",
      "Daria 1×11 – Preocupado por la carretera 10 False\n",
      "Daria 1×12 – Las enseñanzas de Don Jake 11 False\n",
      "Daria 1×13 – La chica de la miseria 12 False\n",
      "Daria 2×01 – Arte Grosero 13 False\n",
      "Daria 2×02 – El cazador de Daria 14 False\n",
      "Daria 2×03 – Quinn el cerebro 15 False\n",
      "Daria 2×04 – Yo no 16 False\n",
      "Daria 2×05 – Eso fue entonces, esto es tonto 17 False\n",
      "Daria 2×06 – Monstruo 18 False\n",
      "Daria 2×07 – El chico nuevo 19 False\n",
      "Daria 2×08 – Dotado 20 False\n",
      "Daria 2×09 – Enfermo 21 False\n",
      "Daria 2×10 – Lo suficientemente justo 22 False\n",
      "Daria 2×11 – Ver a Jane Correr 23 False\n",
      "Daria 2×12 – Hazme Un Percing 24 False\n",
      "Daria 2×13 – Escribe donde duele 25 False\n",
      "Daria 3×01 – ¡Daria! 26 False\n",
      "Daria 3×02 – A través de una lente oscura 27 False\n",
      "Daria 3×03 – Lo viejo y lo hermoso 28 False\n",
      "Daria 3×04 – La profundidad se toma unas vacaciones 29 False\n",
      "Daria 3×05 – Fiesta de baile de Daria 30 False\n",
      "Daria 3×06 – Las chicas perdidas 31 False\n",
      "Daria 3×07 – Sucedió una nuez 32 False\n",
      "Daria 3×08 – Lane Miserables 33 False\n",
      "Daria 3×09 – Jake de corazones 34 False\n",
      "Daria 3×10 – Velocidad Prohibida 35 False\n",
      "Daria 3×11 – El archivo Lawndale 36 False\n",
      "Daria 3×12 – Solo agrega agua 37 False\n",
      "Daria 3×13 – Adición de Jane 38 False\n",
      "Daria 4×01 – Queja del socio 39 False\n",
      "Daria 4×02 – Escaladores antisociales 40 False\n",
      "Daria 4×03 – Un árbol crece en Lawndale 41 False\n",
      "Daria 4×04 – Asesinato, ella roncaba 42 False\n",
      "Daria 4×05 – La palabra F 43 False\n",
      "Daria 4×06 – Detesto un desfile 44 False\n",
      "Daria 4×07 – De la vinculación humana 45 False\n",
      "Daria 4×08 – Psicoterapia 46 False\n",
      "Daria 4×09 – Mercado de la Oscuridad 47 False\n",
      "Daria 4×10 – Leyendas del Mall 48 False\n",
      "Daria 4×11 – Manoseada por un ángel 49 False\n",
      "Daria 4×12 – ¡Fuego! 50 False\n",
      "Daria 4×13 – ¡Colorante! ¡Colorante! Querida 51 False\n",
      "Daria 5×01 – Fizz Ed 52 False\n",
      "Daria 5×02 – Tonto Aniversario 53 False\n",
      "Daria 5×03 – Gordo Como Yo 54 False\n",
      "Daria 5×04 – Campamento del Miedo 55 False\n",
      "Daria 5×05 – La historia de ‘D’ 56 False\n",
      "Daria 5×06 – Golpe de suerte 57 False\n",
      "Daria 5×07 – Quemadura de arte 58 False\n",
      "Daria 5×08 – Una J a la vez 59 False\n",
      "Daria 5×09 – La vida en el pasado Lane 60 False\n",
      "Daria 5×10 – Tía nauseam 61 False\n",
      "Daria 5×11 – Luchadores de premio 62 False\n",
      "Daria 5×12 – Mi noche en casa de Daria 63 False\n",
      "Daria 5×13 – Caja de Daria 64 False\n",
      "Daria 5×14 – Mirando Atras Con Molestia 65 False\n"
     ]
    }
   ],
   "source": [
    "for index, chapter in enumerate(chapters):\n",
    "    print(chapter.name, index, 'Futurama' in chapter.name)\n",
    "    # chapter.name = chapter.name[16:]\n",
    "    # chapter.save()"
   ]
  },
  {
   "cell_type": "code",
   "execution_count": null,
   "id": "tired-jungle",
   "metadata": {},
   "outputs": [],
   "source": []
  }
 ],
 "metadata": {
  "kernelspec": {
   "display_name": "Django Shell-Plus",
   "language": "python",
   "name": "django_extensions"
  },
  "language_info": {
   "codemirror_mode": {
    "name": "ipython",
    "version": 3
   },
   "file_extension": ".py",
   "mimetype": "text/x-python",
   "name": "python",
   "nbconvert_exporter": "python",
   "pygments_lexer": "ipython3",
   "version": "3.9.1"
  }
 },
 "nbformat": 4,
 "nbformat_minor": 5
}
