{
 "cells": [
  {
   "cell_type": "code",
   "execution_count": 12,
   "id": "consecutive-charleston",
   "metadata": {},
   "outputs": [],
   "source": [
    "from video.models import ShowSource, MovieSource, Show, Movie\n",
    "from asgiref.sync import sync_to_async\n",
    "import os\n",
    "import django\n",
    "import requests\n",
    "import json\n",
    "from pyquery import PyQuery as pq\n",
    "os.environ.setdefault('DJANGO_SETTINGS_MODULE', 'rest.settings')\n",
    "os.environ[\"DJANGO_ALLOW_ASYNC_UNSAFE\"] = \"true\"\n",
    "django.setup()"
   ]
  },
  {
   "cell_type": "code",
   "execution_count": 13,
   "id": "novel-geneva",
   "metadata": {},
   "outputs": [],
   "source": [
    "HEADERS = {'User-Agent': \"Mozilla/5.0 (Macintosh; Intel Mac OS X 10_11_5) \"\n",
    "                         \"AppleWebKit/537.36 (KHTML, like Gecko) Chrome/50\"\n",
    "                         \".0.2661.102 Safari/537.36\"}\n"
   ]
  },
  {
   "cell_type": "code",
   "execution_count": 14,
   "id": "grand-excess",
   "metadata": {},
   "outputs": [],
   "source": [
    "sources = ShowSource.objects.filter(server='sendvid')"
   ]
  },
  {
   "cell_type": "code",
   "execution_count": 34,
   "id": "matched-glory",
   "metadata": {},
   "outputs": [],
   "source": [
    "failed_sources = []"
   ]
  },
  {
   "cell_type": "code",
   "execution_count": 35,
   "id": "sealed-money",
   "metadata": {},
   "outputs": [
    {
     "name": "stdout",
     "output_type": "stream",
     "text": [
      "181 source:  6521 http://sendvid.com/embed/2mfziyqb\n",
      "----- FAIL!!! source:  6521\n",
      "----- source not working King Crab: Space Crustacean\n",
      "1715 source:  8141 http://sendvid.com/embed/phgmzoh5\n",
      "----- FAIL!!! source:  8141\n",
      "----- source not working Rescatate soldado braian\n",
      "2935 source:  9397 http://sendvid.com/embed/41ul6e9r\n",
      "----- FAIL!!! source:  9397\n",
      "----- source not working Conductor designado / Ardillas al amanecer\n",
      "2936 source:  9398 http://sendvid.com/embed/fdfhmfp5\n",
      "----- FAIL!!! source:  9398\n",
      "----- source not working El árbol de Navidad / Noche de graduación / Punchline\n",
      "3338 source:  9804 http://sendvid.com/embed/w9dn2a1m\n",
      "\n",
      "3339 source:  9805 http://sendvid.com/embed/lqiq9ft6\n",
      "\n",
      "3342 source:  9808 http://sendvid.com/embed/bm9ln1vl\n",
      "\n",
      "4029 source:  10526 http://sendvid.com/embed/w37tkjiz\n",
      "----- FAIL!!! source:  10526\n",
      "----- source not working Episodio 12\n",
      "4374 source:  10873 http://sendvid.com/embed/dyjdq3yh\n",
      "\n"
     ]
    }
   ],
   "source": [
    "for index, source in enumerate(sources):\n",
    "    if not source.hls_source:\n",
    "        url = source.url_source if 'http' in source.url_source else 'http:' + source.url_source\n",
    "        print(index, 'source: ', source.id, url)\n",
    "        response = requests.get(url, headers=HEADERS)\n",
    "        # print(pq(response.content).find('video source').attrib['src'])\n",
    "        if len(pq(response.content).find('video source')) > 0:\n",
    "            src = pq(response.content).find('video source')[0].attrib['src']\n",
    "            print(src)\n",
    "            source.hls_source = src\n",
    "            source.save()\n",
    "        else:\n",
    "            failed_sources.append(source.id)\n",
    "            print('----- FAIL!!! source: ', source.id)\n",
    "            print('----- source not working', source.chapter.name)"
   ]
  },
  {
   "cell_type": "code",
   "execution_count": 21,
   "id": "looking-teach",
   "metadata": {},
   "outputs": [
    {
     "data": {
      "text/plain": [
       "[<source#video_source>]"
      ]
     },
     "execution_count": 21,
     "metadata": {},
     "output_type": "execute_result"
    }
   ],
   "source": [
    "source = sources[182]\n",
    "url = source.url_source if 'http' in source.url_source else 'http:' + source.url_source\n",
    "response = requests.get(url, headers=HEADERS)\n"
   ]
  },
  {
   "cell_type": "code",
   "execution_count": 22,
   "id": "severe-arbitration",
   "metadata": {},
   "outputs": [
    {
     "data": {
      "text/plain": [
       "1"
      ]
     },
     "execution_count": 22,
     "metadata": {},
     "output_type": "execute_result"
    }
   ],
   "source": [
    "len(pq(response.content).find('video source'))"
   ]
  },
  {
   "cell_type": "code",
   "execution_count": 36,
   "id": "young-sudan",
   "metadata": {},
   "outputs": [
    {
     "data": {
      "text/plain": [
       "5"
      ]
     },
     "execution_count": 36,
     "metadata": {},
     "output_type": "execute_result"
    }
   ],
   "source": [
    "sourcesFails = ShowSource.objects.filter(id__in=failed_sources)\n",
    "sourcesFails.count()"
   ]
  },
  {
   "cell_type": "code",
   "execution_count": 38,
   "id": "finnish-listing",
   "metadata": {},
   "outputs": [
    {
     "name": "stdout",
     "output_type": "stream",
     "text": [
      "6521 what a cartoon 2 3 King Crab: Space Crustacean\n",
      "//sendvid.com/embed/2mfziyqb\n",
      "8141 Alejo y Valentina 1 8 Rescatate soldado braian\n",
      "//sendvid.com/embed/phgmzoh5\n",
      "9397 Animaniacs 5 7 Conductor designado / Ardillas al amanecer\n",
      "//sendvid.com/embed/41ul6e9r\n",
      "9398 Animaniacs 5 8 El árbol de Navidad / Noche de graduación / Punchline\n",
      "//sendvid.com/embed/fdfhmfp5\n",
      "10526 (Des)encanto 2 2 Episodio 12\n",
      "//sendvid.com/embed/w37tkjiz\n"
     ]
    }
   ],
   "source": [
    "for fail in sourcesFails:\n",
    "    print(fail.id, fail.chapter.show.name, fail.chapter.season, fail.chapter.number_chapter , fail.chapter.name)\n",
    "    print(fail.url_source)"
   ]
  },
  {
   "cell_type": "code",
   "execution_count": null,
   "id": "satisfactory-cooking",
   "metadata": {},
   "outputs": [],
   "source": []
  }
 ],
 "metadata": {
  "kernelspec": {
   "display_name": "Django Shell-Plus",
   "language": "python",
   "name": "django_extensions"
  },
  "language_info": {
   "codemirror_mode": {
    "name": "ipython",
    "version": 3
   },
   "file_extension": ".py",
   "mimetype": "text/x-python",
   "name": "python",
   "nbconvert_exporter": "python",
   "pygments_lexer": "ipython3",
   "version": "3.9.1"
  }
 },
 "nbformat": 4,
 "nbformat_minor": 5
}
