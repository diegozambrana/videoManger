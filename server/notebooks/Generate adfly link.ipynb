{
 "cells": [
  {
   "cell_type": "code",
   "execution_count": 1,
   "id": "missing-marble",
   "metadata": {},
   "outputs": [],
   "source": [
    "from video.models import Chapter, Show, Movie\n",
    "from asgiref.sync import sync_to_async\n",
    "from adfly import AdflyApi\n",
    "\n",
    "import time"
   ]
  },
  {
   "cell_type": "code",
   "execution_count": 2,
   "id": "differential-worthy",
   "metadata": {},
   "outputs": [],
   "source": [
    "import os\n",
    "import django\n",
    "os.environ.setdefault('DJANGO_SETTINGS_MODULE', 'rest.settings')\n",
    "os.environ[\"DJANGO_ALLOW_ASYNC_UNSAFE\"] = \"true\"\n",
    "django.setup()"
   ]
  },
  {
   "cell_type": "code",
   "execution_count": 3,
   "id": "moved-uncle",
   "metadata": {},
   "outputs": [],
   "source": [
    "BASE_URL = \"http://www.rukos.tv/\"\n",
    "MOVIE = \"movie/\"\n",
    "SHOW = \"show/\""
   ]
  },
  {
   "cell_type": "code",
   "execution_count": 4,
   "id": "aerial-margin",
   "metadata": {},
   "outputs": [],
   "source": [
    "api = AdflyApi(\n",
    "      secret_key='7cda073a-1dd1-4e4a-92f4-b9ce09764f3e',\n",
    "      public_key='51a531b5a4902229d99299224b75a915',\n",
    "      user_id=24702679,\n",
    ")"
   ]
  },
  {
   "cell_type": "code",
   "execution_count": 5,
   "id": "widespread-mistress",
   "metadata": {},
   "outputs": [
    {
     "name": "stdout",
     "output_type": "stream",
     "text": [
      "http://www.rukos.tv/movie/zack-snyders-justice-league\n",
      "http://evolterr.com/1jOY\n"
     ]
    }
   ],
   "source": [
    "movies = Movie.objects.all()\n",
    "\n",
    "for movie in movies:\n",
    "    if not movie.ads_url:\n",
    "        print(BASE_URL + MOVIE + movie.slug)\n",
    "        response = api.shorten(BASE_URL + MOVIE + movie.slug)\n",
    "        print(response['data'][0]['short_url'])\n",
    "        movie.ads_url = response['data'][0]['short_url']\n",
    "        movie.save()"
   ]
  },
  {
   "cell_type": "code",
   "execution_count": 6,
   "id": "functional-dubai",
   "metadata": {},
   "outputs": [],
   "source": [
    "shows = Show.objects.all()\n",
    "\n",
    "for show in shows:\n",
    "    if not show.ads_url:\n",
    "        print(BASE_URL + SHOW + show.slug)\n",
    "        response = api.shorten(BASE_URL + SHOW + show.slug)\n",
    "        print(response['data'][0]['short_url'])\n",
    "        show.ads_url = response['data'][0]['short_url']\n",
    "        show.save()"
   ]
  },
  {
   "cell_type": "code",
   "execution_count": 7,
   "id": "improved-graphic",
   "metadata": {},
   "outputs": [],
   "source": [
    "chapters = Chapter.objects.all()\n",
    "\n",
    "for chapter in chapters:\n",
    "    if not chapter.ads_url:\n",
    "        print(BASE_URL + SHOW + chapter.show.slug + '/' + chapter.slug)\n",
    "        response = api.shorten(BASE_URL + SHOW + chapter.show.slug + '/' + chapter.slug)\n",
    "        print(response['data'][0]['short_url'])\n",
    "        chapter.ads_url = response['data'][0]['short_url']\n",
    "        chapter.save()\n",
    "        time.sleep(0.5)"
   ]
  },
  {
   "cell_type": "code",
   "execution_count": null,
   "id": "hazardous-makeup",
   "metadata": {},
   "outputs": [],
   "source": []
  }
 ],
 "metadata": {
  "kernelspec": {
   "display_name": "Django Shell-Plus",
   "language": "python",
   "name": "django_extensions"
  },
  "language_info": {
   "codemirror_mode": {
    "name": "ipython",
    "version": 3
   },
   "file_extension": ".py",
   "mimetype": "text/x-python",
   "name": "python",
   "nbconvert_exporter": "python",
   "pygments_lexer": "ipython3",
   "version": "3.9.1"
  }
 },
 "nbformat": 4,
 "nbformat_minor": 5
}
