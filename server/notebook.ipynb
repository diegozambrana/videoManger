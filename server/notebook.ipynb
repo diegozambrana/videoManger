{
 "cells": [
  {
   "cell_type": "code",
   "execution_count": 4,
   "id": "fantastic-strength",
   "metadata": {},
   "outputs": [],
   "source": [
    "from video.models import ShowSource, MovieSource, Show, Movie, Chapter\n",
    "from asgiref.sync import sync_to_async"
   ]
  },
  {
   "cell_type": "code",
   "execution_count": 2,
   "id": "tribal-track",
   "metadata": {},
   "outputs": [],
   "source": [
    "import os\n",
    "import django\n",
    "os.environ.setdefault('DJANGO_SETTINGS_MODULE', 'rest.settings')\n",
    "os.environ[\"DJANGO_ALLOW_ASYNC_UNSAFE\"] = \"true\"\n",
    "django.setup()"
   ]
  },
  {
   "cell_type": "code",
   "execution_count": 3,
   "id": "iraqi-allowance",
   "metadata": {},
   "outputs": [],
   "source": [
    "sources = MovieSource.objects.filter()"
   ]
  },
  {
   "cell_type": "code",
   "execution_count": 4,
   "id": "resident-hamburg",
   "metadata": {},
   "outputs": [
    {
     "ename": "AttributeError",
     "evalue": "'ShowSource' object has no attribute 'movie'",
     "output_type": "error",
     "traceback": [
      "\u001b[0;31m---------------------------------------------------------------------------\u001b[0m",
      "\u001b[0;31mAttributeError\u001b[0m                            Traceback (most recent call last)",
      "\u001b[0;32m<ipython-input-4-e2a485555f8c>\u001b[0m in \u001b[0;36m<module>\u001b[0;34m\u001b[0m\n\u001b[1;32m      6\u001b[0m         \u001b[0mserver\u001b[0m\u001b[0;34m=\u001b[0m\u001b[0msource\u001b[0m\u001b[0;34m.\u001b[0m\u001b[0mserver\u001b[0m\u001b[0;34m,\u001b[0m\u001b[0;34m\u001b[0m\u001b[0;34m\u001b[0m\u001b[0m\n\u001b[1;32m      7\u001b[0m         \u001b[0mpriority\u001b[0m\u001b[0;34m=\u001b[0m\u001b[0msource\u001b[0m\u001b[0;34m.\u001b[0m\u001b[0mpriority\u001b[0m\u001b[0;34m,\u001b[0m\u001b[0;34m\u001b[0m\u001b[0;34m\u001b[0m\u001b[0m\n\u001b[0;32m----> 8\u001b[0;31m         \u001b[0mmovie\u001b[0m\u001b[0;34m=\u001b[0m\u001b[0msource\u001b[0m\u001b[0;34m.\u001b[0m\u001b[0mmovie\u001b[0m\u001b[0;34m,\u001b[0m\u001b[0;34m\u001b[0m\u001b[0;34m\u001b[0m\u001b[0m\n\u001b[0m\u001b[1;32m      9\u001b[0m     )\n\u001b[1;32m     10\u001b[0m     \u001b[0mnewSource\u001b[0m\u001b[0;34m.\u001b[0m\u001b[0msave\u001b[0m\u001b[0;34m(\u001b[0m\u001b[0;34m)\u001b[0m\u001b[0;34m\u001b[0m\u001b[0;34m\u001b[0m\u001b[0m\n",
      "\u001b[0;31mAttributeError\u001b[0m: 'ShowSource' object has no attribute 'movie'"
     ]
    }
   ],
   "source": [
    "for source in sources:\n",
    "    newSource = MovieSource(\n",
    "        url_source=source.url_source,\n",
    "        type_source=source.type_source,\n",
    "        active=source.active,\n",
    "        server=source.server,\n",
    "        priority=source.priority,\n",
    "        movie=source.movie,        \n",
    "    )\n",
    "    newSource.save()"
   ]
  },
  {
   "cell_type": "code",
   "execution_count": 5,
   "id": "subtle-buffalo",
   "metadata": {},
   "outputs": [],
   "source": [
    "def update_sources(sources):\n",
    "    for index, source in enumerate(sources):\n",
    "        if 'mega.nz' in source.url_source:\n",
    "            source.server = 'mega'\n",
    "            source.save()\n",
    "        if 'blogger.com' in source.url_source:\n",
    "            source.server = 'blogger'\n",
    "            source.priority = 1\n",
    "            source.save()\n",
    "        if 'vidfast.co' in source.url_source:\n",
    "            source.server = 'vidfast'\n",
    "            source.active = False\n",
    "            source.save()\n",
    "        if 'uqload.com' in source.url_source:\n",
    "            source.server = 'uqload'\n",
    "            source.priority = 5\n",
    "            source.save()\n",
    "        if 'movcloud.net' in source.url_source:\n",
    "            source.server = 'movcloud'\n",
    "            source.priority = 4\n",
    "            source.save()\n",
    "        if 'peliscloud.net' in source.url_source:\n",
    "            source.server = 'peliscloud'\n",
    "            source.priority = 5\n",
    "            source.save()\n",
    "        if 'animekao.xyz' in source.url_source:\n",
    "            source.server = 'animekao'\n",
    "            source.priority = 8\n",
    "            source.save()\n",
    "        if 'pelispng.online' in source.url_source:\n",
    "            source.server = 'pelispng'\n",
    "            source.priority = 7\n",
    "            source.save()\n",
    "        if 'pelispng.online' in source.url_source:\n",
    "            source.server = 'pelispng'\n",
    "            source.priority = 7\n",
    "            source.save()\n",
    "        if 'gdriveplayer.to' in source.url_source:\n",
    "            source.server = 'gdriveplayer'\n",
    "            source.priority = 10\n",
    "            source.save()\n",
    "        if 'feurl.com/' in source.url_source:\n",
    "            source.server = 'feurl'\n",
    "            source.priority = 8\n",
    "            source.save()\n",
    "        if 'v2.zplayer.live' in source.url_source:\n",
    "            source.server = 'zplayer'\n",
    "            source.priority = 9\n",
    "            source.save()\n",
    "        if 'sendvid.com' in source.url_source:\n",
    "            source.server = 'sendvid'\n",
    "            source.priority = 6\n",
    "            source.save()\n",
    "        if 'vimeo.com' in source.url_source:\n",
    "            source.server = 'vimeo'\n",
    "            source.priority = 1\n",
    "            source.save()\n",
    "        if 'drive.google.com' in source.url_source:\n",
    "            source.server = 'drive'\n",
    "            source.priority = 2\n",
    "            source.save()\n",
    "        if 'ok.ru' in source.url_source:\n",
    "            source.server = 'ok'\n",
    "            source.priority = 2\n",
    "            source.save()\n",
    "        if 'emax20.com' in source.url_source:\n",
    "            source.server = 'emax20'\n",
    "            source.priority = 5\n",
    "            source.save()"
   ]
  },
  {
   "cell_type": "code",
   "execution_count": 6,
   "id": "resident-display",
   "metadata": {},
   "outputs": [
    {
     "name": "stdout",
     "output_type": "stream",
     "text": [
      "...updating movies Sources\n",
      "updated movies Sources\n",
      "...updating Shows Sources\n",
      "updated Show Sources\n"
     ]
    }
   ],
   "source": [
    "print('...updating movies Sources')\n",
    "update_sources(MovieSource.objects.all())\n",
    "print('updated movies Sources')\n",
    "print('...updating Shows Sources')\n",
    "update_sources(ShowSource.objects.all())\n",
    "print('updated Show Sources')"
   ]
  },
  {
   "cell_type": "markdown",
   "id": "human-journal",
   "metadata": {},
   "source": [
    "### DELETE Sources from show"
   ]
  },
  {
   "cell_type": "code",
   "execution_count": 3,
   "id": "descending-tucson",
   "metadata": {},
   "outputs": [
    {
     "name": "stdout",
     "output_type": "stream",
     "text": [
      "Futurama\n"
     ]
    },
    {
     "data": {
      "text/plain": [
       "0"
      ]
     },
     "execution_count": 3,
     "metadata": {},
     "output_type": "execute_result"
    }
   ],
   "source": [
    "show = Show.objects.get(pk=10)\n",
    "print(show.name)\n",
    "sources = ShowSource.objects.filter(chapter__show=show, server=\"mega\")\n",
    "len(sources)"
   ]
  },
  {
   "cell_type": "code",
   "execution_count": 8,
   "id": "decimal-encounter",
   "metadata": {},
   "outputs": [],
   "source": [
    "chapters = Chapter.objects.filter(show__pk=10)"
   ]
  },
  {
   "cell_type": "code",
   "execution_count": 9,
   "id": "alike-implement",
   "metadata": {},
   "outputs": [],
   "source": [
    "for c in chapters:\n",
    "    c.delete()"
   ]
  },
  {
   "cell_type": "code",
   "execution_count": null,
   "id": "maritime-ground",
   "metadata": {},
   "outputs": [],
   "source": []
  }
 ],
 "metadata": {
  "kernelspec": {
   "display_name": "Django Shell-Plus",
   "language": "python",
   "name": "django_extensions"
  },
  "language_info": {
   "codemirror_mode": {
    "name": "ipython",
    "version": 3
   },
   "file_extension": ".py",
   "mimetype": "text/x-python",
   "name": "python",
   "nbconvert_exporter": "python",
   "pygments_lexer": "ipython3",
   "version": "3.9.1"
  }
 },
 "nbformat": 4,
 "nbformat_minor": 5
}
